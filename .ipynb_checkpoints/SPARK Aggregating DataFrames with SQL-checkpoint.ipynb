{
 "cells": [
  {
   "cell_type": "code",
   "execution_count": 1,
   "metadata": {},
   "outputs": [
    {
     "name": "stdout",
     "output_type": "stream",
     "text": [
      "+---------------+-------------------+-----------+---------+-------------+\n",
      "|cpu_utilization|     event_datetime|free_memory|server_id|session_count|\n",
      "+---------------+-------------------+-----------+---------+-------------+\n",
      "|           0.57|03/05/2019 08:06:14|       0.51|      100|           47|\n",
      "|           0.47|03/05/2019 08:11:14|       0.62|      100|           43|\n",
      "|           0.56|03/05/2019 08:16:14|       0.57|      100|           62|\n",
      "|           0.57|03/05/2019 08:21:14|       0.56|      100|           50|\n",
      "|           0.35|03/05/2019 08:26:14|       0.46|      100|           43|\n",
      "|           0.41|03/05/2019 08:31:14|       0.58|      100|           48|\n",
      "|           0.57|03/05/2019 08:36:14|       0.35|      100|           58|\n",
      "|           0.41|03/05/2019 08:41:14|        0.4|      100|           58|\n",
      "|           0.53|03/05/2019 08:46:14|       0.35|      100|           62|\n",
      "|           0.51|03/05/2019 08:51:14|        0.6|      100|           45|\n",
      "+---------------+-------------------+-----------+---------+-------------+\n",
      "only showing top 10 rows\n",
      "\n"
     ]
    }
   ],
   "source": [
    "from pyspark.sql import SparkSession\n",
    "spark = SparkSession.builder.getOrCreate()\n",
    "data_path = 'C:/Users/mccal/Desktop/Springboard Files/Springboard 26 SPARK SQL/Ex_Files_Spark_SQL_DataFrames/Exercise Files/Data'\n",
    "\n",
    "json_df2_path = data_path+'/utilization.json'\n",
    "df  = spark.read.format('json').load(json_df2_path)\n",
    "\n",
    "df.show(10)"
   ]
  },
  {
   "cell_type": "code",
   "execution_count": 2,
   "metadata": {},
   "outputs": [],
   "source": [
    "df.createOrReplaceTempView(\"utilization\")"
   ]
  },
  {
   "cell_type": "code",
   "execution_count": 4,
   "metadata": {},
   "outputs": [
    {
     "name": "stdout",
     "output_type": "stream",
     "text": [
      "+--------+\n",
      "|count(1)|\n",
      "+--------+\n",
      "|  500000|\n",
      "+--------+\n",
      "\n"
     ]
    }
   ],
   "source": [
    "df_count = spark.sql(\"SELECT count(*) FROM utilization\")\n",
    "df_count.show()"
   ]
  },
  {
   "cell_type": "code",
   "execution_count": 6,
   "metadata": {},
   "outputs": [
    {
     "name": "stdout",
     "output_type": "stream",
     "text": [
      "+--------+\n",
      "|count(1)|\n",
      "+--------+\n",
      "|  239659|\n",
      "+--------+\n",
      "\n"
     ]
    }
   ],
   "source": [
    "df_sql  =  spark.sql(\"SELECT count(*)   \\\n",
    "                      FROM utilization \\\n",
    "                      WHERE session_count> 70\")\n",
    "df_sql.show()"
   ]
  },
  {
   "cell_type": "code",
   "execution_count": 7,
   "metadata": {},
   "outputs": [
    {
     "name": "stdout",
     "output_type": "stream",
     "text": [
      "+---------+--------+\n",
      "|server_id|count(1)|\n",
      "+---------+--------+\n",
      "|      112|    7425|\n",
      "|      113|    9418|\n",
      "|      130|    2891|\n",
      "|      126|    6365|\n",
      "|      149|    8288|\n",
      "|      110|    2826|\n",
      "|      136|    4316|\n",
      "|      144|    6220|\n",
      "|      116|    1167|\n",
      "|      145|    9304|\n",
      "|      143|     144|\n",
      "|      107|    5646|\n",
      "|      146|    7072|\n",
      "|      103|    8744|\n",
      "|      139|    7383|\n",
      "|      114|    2128|\n",
      "|      115|    5284|\n",
      "|      104|    7366|\n",
      "|      120|    2733|\n",
      "|      128|    3719|\n",
      "+---------+--------+\n",
      "only showing top 20 rows\n",
      "\n"
     ]
    }
   ],
   "source": [
    "df_sql  =  spark.sql(\"SELECT server_id, count(*)   \\\n",
    "                      FROM utilization \\\n",
    "                      WHERE session_count> 70 \\\n",
    "                      GROUP BY server_id\")\n",
    "df_sql.show()"
   ]
  },
  {
   "cell_type": "code",
   "execution_count": 8,
   "metadata": {},
   "outputs": [
    {
     "name": "stdout",
     "output_type": "stream",
     "text": [
      "+---------+--------+\n",
      "|server_id|count(1)|\n",
      "+---------+--------+\n",
      "|      101|    9808|\n",
      "|      113|    9418|\n",
      "|      145|    9304|\n",
      "|      103|    8744|\n",
      "|      102|    8586|\n",
      "|      133|    8583|\n",
      "|      108|    8375|\n",
      "|      149|    8288|\n",
      "|      137|    8248|\n",
      "|      148|    8027|\n",
      "|      123|    7918|\n",
      "|      118|    7913|\n",
      "|      112|    7425|\n",
      "|      139|    7383|\n",
      "|      104|    7366|\n",
      "|      121|    7084|\n",
      "|      142|    7084|\n",
      "|      146|    7072|\n",
      "|      126|    6365|\n",
      "|      144|    6220|\n",
      "+---------+--------+\n",
      "only showing top 20 rows\n",
      "\n"
     ]
    }
   ],
   "source": [
    "df_sql  =  spark.sql(\"SELECT server_id, count(*)   \\\n",
    "                      FROM utilization \\\n",
    "                      WHERE session_count> 70 \\\n",
    "                      GROUP BY server_id \\\n",
    "                      ORDER BY count(*) DESC\")\n",
    "df_sql.show()"
   ]
  },
  {
   "cell_type": "code",
   "execution_count": 9,
   "metadata": {},
   "outputs": [
    {
     "name": "stdout",
     "output_type": "stream",
     "text": [
      "+---------+------------------+----------------------------+------------------+\n",
      "|server_id|min(session_count)|round(avg(session_count), 2)|max(session_count)|\n",
      "+---------+------------------+----------------------------+------------------+\n",
      "|      101|                71|                       87.67|               105|\n",
      "|      113|                71|                       86.96|               103|\n",
      "|      145|                71|                       86.98|               103|\n",
      "|      103|                71|                       85.76|               101|\n",
      "|      102|                71|                       85.71|               101|\n",
      "|      133|                71|                       85.47|               100|\n",
      "|      108|                71|                       85.12|               100|\n",
      "|      149|                71|                       84.96|                99|\n",
      "|      137|                71|                       85.01|                99|\n",
      "|      148|                71|                        84.7|                99|\n",
      "|      123|                71|                       84.53|                98|\n",
      "|      118|                71|                       84.66|                98|\n",
      "|      112|                71|                       83.55|                97|\n",
      "|      139|                71|                       83.33|                96|\n",
      "|      104|                71|                       83.35|                96|\n",
      "|      121|                71|                       82.89|                95|\n",
      "|      142|                71|                        82.9|                95|\n",
      "|      146|                71|                       82.95|                95|\n",
      "|      126|                71|                       81.56|                93|\n",
      "|      144|                71|                       81.38|                92|\n",
      "+---------+------------------+----------------------------+------------------+\n",
      "only showing top 20 rows\n",
      "\n"
     ]
    }
   ],
   "source": [
    "df_sql  =  spark.sql(\"SELECT server_id,min(session_count), round(avg(session_count),2), max(session_count)   \\\n",
    "                      FROM utilization \\\n",
    "                      WHERE session_count> 70 \\\n",
    "                      GROUP BY server_id \\\n",
    "                      ORDER BY count(*) DESC\")\n",
    "df_sql.show()"
   ]
  },
  {
   "cell_type": "code",
   "execution_count": null,
   "metadata": {},
   "outputs": [],
   "source": []
  }
 ],
 "metadata": {
  "kernelspec": {
   "display_name": "Python 3",
   "language": "python",
   "name": "python3"
  },
  "language_info": {
   "codemirror_mode": {
    "name": "ipython",
    "version": 3
   },
   "file_extension": ".py",
   "mimetype": "text/x-python",
   "name": "python",
   "nbconvert_exporter": "python",
   "pygments_lexer": "ipython3",
   "version": "3.8.5"
  }
 },
 "nbformat": 4,
 "nbformat_minor": 4
}
